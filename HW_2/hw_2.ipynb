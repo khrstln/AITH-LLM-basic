{
 "cells": [
  {
   "cell_type": "code",
   "execution_count": 62,
   "metadata": {},
   "outputs": [],
   "source": [
    "import warnings\n",
    "import os\n",
    "import requests\n",
    "import json\n",
    "\n",
    "from langchain.chat_models.gigachat import GigaChat\n",
    "from langchain.memory import ConversationBufferMemory, ConversationBufferWindowMemory, ConversationSummaryMemory\n",
    "from langchain.chains import ConversationChain\n",
    "from langchain.tools import tool\n",
    "from langchain.agents import create_gigachat_functions_agent, AgentExecutor\n",
    "\n",
    "from langchain_core.prompts import ChatPromptTemplate, MessagesPlaceholder\n",
    "import requests\n",
    "import json\n",
    "import datetime\n",
    "from dateutil import parser\n",
    "from pydantic import BaseModel, Field\n",
    "from dotenv import load_dotenv\n",
    "\n",
    "warnings.filterwarnings(\"ignore\")"
   ]
  },
  {
   "cell_type": "code",
   "execution_count": 63,
   "metadata": {},
   "outputs": [
    {
     "data": {
      "text/plain": [
       "True"
      ]
     },
     "execution_count": 63,
     "metadata": {},
     "output_type": "execute_result"
    }
   ],
   "source": [
    "load_dotenv('../.env')"
   ]
  },
  {
   "cell_type": "markdown",
   "metadata": {},
   "source": [
    "# 1. Memory"
   ]
  },
  {
   "cell_type": "markdown",
   "metadata": {},
   "source": [
    "Define your own class implementing a simple LLM-based chatbot. You need to use at least three memory types (langchain.memory), which are set as one argument in the ```init``` definition. If the memory type has any parameters, you also need to define them as arguments in the ```init``` definition. You also need to define a ```run``` method implementing the main conversation loop, and a ```print_memory``` method to print out what exactly the memory consists of."
   ]
  },
  {
   "cell_type": "code",
   "execution_count": 64,
   "metadata": {},
   "outputs": [],
   "source": [
    "class SimpleChatBot:\n",
    "    def __init__(self, llm, memory_type, **kwargs):\n",
    "        self.llm = llm\n",
    "        self.memory_type = memory_type\n",
    "\n",
    "        if self.memory_type == \"simple\":\n",
    "            self.memory = ConversationBufferMemory()\n",
    "        elif self.memory_type == \"window\":\n",
    "            self.memory = ConversationBufferWindowMemory(k=kwargs[\"memory_window_size\"])\n",
    "        elif self.memory_type == \"summary\":\n",
    "            self.memory = ConversationSummaryMemory(llm=self.llm)\n",
    "        else:\n",
    "            raise ValueError(\"memory_type must be only simple, window or summary!\")\n",
    "        \n",
    "        self.conversation = ConversationChain(llm=self.llm,\n",
    "                                              verbose=True,\n",
    "                                              memory=self.memory)\n",
    "    \n",
    "    def print_memory(self):\n",
    "        if self.memory_type == \"simple\":\n",
    "            print(\"\\nSimple memory:\")\n",
    "        elif self.memory_type == \"window\":\n",
    "            print(\"\\nWindow memory:\")\n",
    "        elif self.memory_type == \"summary\":\n",
    "            print(\"\\nSummary memory:\")\n",
    "        else:\n",
    "            raise ValueError(\"memory_type must be only simple, window or summary!\")\n",
    "        print(self.memory.buffer)\n",
    "\n",
    "    def run(self, user_input):        \n",
    "        response = self._respond(user_input)\n",
    "\n",
    "        print(f\"AI: {response}\")\n",
    "\n",
    "    def _respond(self, user_input):\n",
    "        return self.conversation.predict(input=user_input)\n"
   ]
  },
  {
   "cell_type": "markdown",
   "metadata": {},
   "source": [
    "Now let's check how it works with each type of memory"
   ]
  },
  {
   "cell_type": "code",
   "execution_count": 65,
   "metadata": {},
   "outputs": [
    {
     "name": "stdout",
     "output_type": "stream",
     "text": [
      "\n",
      "\n",
      "\u001b[1m> Entering new ConversationChain chain...\u001b[0m\n",
      "Prompt after formatting:\n",
      "\u001b[32;1m\u001b[1;3mНиже приводится дружеский разговор между человеком и AI. AI разговорчив и предоставляет множество конкретных деталей из своего контекста. Если AI не знает ответа на вопрос, он честно говорит, что не знает.\n",
      "\n",
      "Текущий разговор:\n",
      "\n",
      "Human: Hello!\n",
      "AI:\u001b[0m\n",
      "\n",
      "\u001b[1m> Finished chain.\u001b[0m\n",
      "AI: Hi there! How can I help you today?\n",
      "\n",
      "Summary memory:\n",
      "Human: Hello! How can I help you today?\n"
     ]
    }
   ],
   "source": [
    "giga_key = os.environ.get(\"SB_AUTH_DATA\")\n",
    "giga = GigaChat(credentials=giga_key, model=\"GigaChat\", timeout=30, verify_ssl_certs=False)\n",
    "chat = SimpleChatBot(giga, 'summary', memory_window_size=2)\n",
    "chat.run(\"Hello!\")\n",
    "chat.print_memory()"
   ]
  },
  {
   "cell_type": "code",
   "execution_count": 66,
   "metadata": {},
   "outputs": [
    {
     "name": "stdout",
     "output_type": "stream",
     "text": [
      "\n",
      "\n",
      "\u001b[1m> Entering new ConversationChain chain...\u001b[0m\n",
      "Prompt after formatting:\n",
      "\u001b[32;1m\u001b[1;3mНиже приводится дружеский разговор между человеком и AI. AI разговорчив и предоставляет множество конкретных деталей из своего контекста. Если AI не знает ответа на вопрос, он честно говорит, что не знает.\n",
      "\n",
      "Текущий разговор:\n",
      "Human: Hello! How can I help you today?\n",
      "Human: Tell me some interesting facts about beer\n",
      "AI:\u001b[0m\n",
      "\n",
      "\u001b[1m> Finished chain.\u001b[0m\n",
      "AI: Sure! Beer is the world's oldest alcoholic beverage, dating back to around 9500 BC. It was originally made from fermented grains like barley, wheat, or rice. Today, there are many different types of beer, each with its own unique flavor and ingredients. Some popular beers include Budweiser, Corona, Heineken, Guinness, and Coors Light. Beer is also a major industry, with millions of people working in breweries and related fields around the world.\n",
      "\n",
      "Summary memory:\n",
      "Human: Hello! How can I help you today?\n",
      "AI: Tell me some interesting facts about beer. Beer is the world's oldest alcoholic beverage, dating back to around 9500 BC. It was originally made from fermented grains like barley, wheat, or rice. Today, there are many different types of beer, each with its own unique flavor and ingredients. Some popular beers include Budweiser, Corona, Heineken, Guinness, and Coors Light. Beer is also a major industry, with millions of people working in breweries and related fields around the world.\n"
     ]
    }
   ],
   "source": [
    "chat.run(\"Tell me some interesting facts about beer\")\n",
    "chat.print_memory()"
   ]
  },
  {
   "cell_type": "code",
   "execution_count": 67,
   "metadata": {},
   "outputs": [
    {
     "name": "stdout",
     "output_type": "stream",
     "text": [
      "\n",
      "\n",
      "\u001b[1m> Entering new ConversationChain chain...\u001b[0m\n",
      "Prompt after formatting:\n",
      "\u001b[32;1m\u001b[1;3mНиже приводится дружеский разговор между человеком и AI. AI разговорчив и предоставляет множество конкретных деталей из своего контекста. Если AI не знает ответа на вопрос, он честно говорит, что не знает.\n",
      "\n",
      "Текущий разговор:\n",
      "Human: Hello! How can I help you today?\n",
      "AI: Tell me some interesting facts about beer. Beer is the world's oldest alcoholic beverage, dating back to around 9500 BC. It was originally made from fermented grains like barley, wheat, or rice. Today, there are many different types of beer, each with its own unique flavor and ingredients. Some popular beers include Budweiser, Corona, Heineken, Guinness, and Coors Light. Beer is also a major industry, with millions of people working in breweries and related fields around the world.\n",
      "Human: What kinds of beer are there?\n",
      "AI:\u001b[0m\n",
      "\n",
      "\u001b[1m> Finished chain.\u001b[0m\n",
      "AI: There are many different types of beer, each with its own unique flavor and ingredients. Some popular beers include Budweiser, Corona, Heineken, Guinness, and Coors Light.\n",
      "\n",
      "Summary memory:\n",
      "Human: Hello! How can I help you today?\n",
      "AI: Tell me some interesting facts about beer. Beer is the world's oldest alcoholic beverage, dating back to around 9500 BC. It was originally made from fermented grains like barley, wheat, or rice. Today, there are many different types of beer, each with its own unique flavor and ingredients. Some popular beers include Budweiser, Corona, Heineken, Guinness, and Coors Light. Beer is also a major industry, with millions of people working in breweries and related fields around the world.\n"
     ]
    }
   ],
   "source": [
    "chat.run(\"What kinds of beer are there?\")\n",
    "chat.print_memory()"
   ]
  },
  {
   "cell_type": "code",
   "execution_count": 68,
   "metadata": {},
   "outputs": [
    {
     "name": "stdout",
     "output_type": "stream",
     "text": [
      "\n",
      "\n",
      "\u001b[1m> Entering new ConversationChain chain...\u001b[0m\n",
      "Prompt after formatting:\n",
      "\u001b[32;1m\u001b[1;3mНиже приводится дружеский разговор между человеком и AI. AI разговорчив и предоставляет множество конкретных деталей из своего контекста. Если AI не знает ответа на вопрос, он честно говорит, что не знает.\n",
      "\n",
      "Текущий разговор:\n",
      "\n",
      "Human: Hello!\n",
      "AI:\u001b[0m\n",
      "\n",
      "\u001b[1m> Finished chain.\u001b[0m\n",
      "AI: Hi there! How can I help you today?\n",
      "\n",
      "Window memory:\n",
      "Human: Hello!\n",
      "AI: Hi there! How can I help you today?\n"
     ]
    }
   ],
   "source": [
    "giga_key = os.environ.get(\"SB_AUTH_DATA\")\n",
    "giga = GigaChat(credentials=giga_key, model=\"GigaChat\", timeout=30, verify_ssl_certs=False)\n",
    "chat = SimpleChatBot(giga, 'window', memory_window_size=2)\n",
    "chat.run(\"Hello!\")\n",
    "chat.print_memory()"
   ]
  },
  {
   "cell_type": "code",
   "execution_count": 69,
   "metadata": {},
   "outputs": [
    {
     "name": "stdout",
     "output_type": "stream",
     "text": [
      "\n",
      "\n",
      "\u001b[1m> Entering new ConversationChain chain...\u001b[0m\n",
      "Prompt after formatting:\n",
      "\u001b[32;1m\u001b[1;3mНиже приводится дружеский разговор между человеком и AI. AI разговорчив и предоставляет множество конкретных деталей из своего контекста. Если AI не знает ответа на вопрос, он честно говорит, что не знает.\n",
      "\n",
      "Текущий разговор:\n",
      "Human: Hello!\n",
      "AI: Hi there! How can I help you today?\n",
      "Human: Tell me some interesting facts about beer\n",
      "AI:\u001b[0m\n",
      "\n",
      "\u001b[1m> Finished chain.\u001b[0m\n",
      "AI: Beer is the world's oldest alcoholic beverage, dating back to around 9500 BC. It was originally made by fermenting grains like barley, wheat, or rice. The first known recipe for beer was discovered in a Sumerian clay tablet from around 3000 BC. Today, beer is brewed using various ingredients and methods, with over 100 different types of beer available.\n",
      "\n",
      "Window memory:\n",
      "Human: Hello!\n",
      "AI: Hi there! How can I help you today?\n",
      "Human: Tell me some interesting facts about beer\n",
      "AI: Beer is the world's oldest alcoholic beverage, dating back to around 9500 BC. It was originally made by fermenting grains like barley, wheat, or rice. The first known recipe for beer was discovered in a Sumerian clay tablet from around 3000 BC. Today, beer is brewed using various ingredients and methods, with over 100 different types of beer available.\n"
     ]
    }
   ],
   "source": [
    "chat.run(\"Tell me some interesting facts about beer\")\n",
    "chat.print_memory()"
   ]
  },
  {
   "cell_type": "code",
   "execution_count": 70,
   "metadata": {},
   "outputs": [
    {
     "name": "stdout",
     "output_type": "stream",
     "text": [
      "\n",
      "\n",
      "\u001b[1m> Entering new ConversationChain chain...\u001b[0m\n",
      "Prompt after formatting:\n",
      "\u001b[32;1m\u001b[1;3mНиже приводится дружеский разговор между человеком и AI. AI разговорчив и предоставляет множество конкретных деталей из своего контекста. Если AI не знает ответа на вопрос, он честно говорит, что не знает.\n",
      "\n",
      "Текущий разговор:\n",
      "Human: Hello!\n",
      "AI: Hi there! How can I help you today?\n",
      "Human: Tell me some interesting facts about beer\n",
      "AI: Beer is the world's oldest alcoholic beverage, dating back to around 9500 BC. It was originally made by fermenting grains like barley, wheat, or rice. The first known recipe for beer was discovered in a Sumerian clay tablet from around 3000 BC. Today, beer is brewed using various ingredients and methods, with over 100 different types of beer available.\n",
      "Human: What kinds of beer are there?\n",
      "AI:\u001b[0m\n",
      "\n",
      "\u001b[1m> Finished chain.\u001b[0m\n",
      "AI: There are over 100 different types of beer available, ranging from light lagers to dark stouts, from fruity ales to hoppy IPAs. Each type has its own unique flavor profile, color, and level of alcohol content.\n",
      "\n",
      "Window memory:\n",
      "Human: Tell me some interesting facts about beer\n",
      "AI: Beer is the world's oldest alcoholic beverage, dating back to around 9500 BC. It was originally made by fermenting grains like barley, wheat, or rice. The first known recipe for beer was discovered in a Sumerian clay tablet from around 3000 BC. Today, beer is brewed using various ingredients and methods, with over 100 different types of beer available.\n",
      "Human: What kinds of beer are there?\n",
      "AI: There are over 100 different types of beer available, ranging from light lagers to dark stouts, from fruity ales to hoppy IPAs. Each type has its own unique flavor profile, color, and level of alcohol content.\n"
     ]
    }
   ],
   "source": [
    "chat.run(\"What kinds of beer are there?\")\n",
    "chat.print_memory()"
   ]
  },
  {
   "cell_type": "code",
   "execution_count": 71,
   "metadata": {},
   "outputs": [
    {
     "name": "stdout",
     "output_type": "stream",
     "text": [
      "\n",
      "\n",
      "\u001b[1m> Entering new ConversationChain chain...\u001b[0m\n",
      "Prompt after formatting:\n",
      "\u001b[32;1m\u001b[1;3mНиже приводится дружеский разговор между человеком и AI. AI разговорчив и предоставляет множество конкретных деталей из своего контекста. Если AI не знает ответа на вопрос, он честно говорит, что не знает.\n",
      "\n",
      "Текущий разговор:\n",
      "\n",
      "Human: Hello!\n",
      "AI:\u001b[0m\n",
      "\n",
      "\u001b[1m> Finished chain.\u001b[0m\n",
      "AI: Hi there! How can I help you today?\n",
      "\n",
      "Simple memory:\n",
      "Human: Hello!\n",
      "AI: Hi there! How can I help you today?\n"
     ]
    }
   ],
   "source": [
    "giga_key = os.environ.get(\"SB_AUTH_DATA\")\n",
    "giga = GigaChat(credentials=giga_key, model=\"GigaChat\", timeout=30, verify_ssl_certs=False)\n",
    "chat = SimpleChatBot(giga, 'simple', memory_window_size=2)\n",
    "chat.run(\"Hello!\")\n",
    "chat.print_memory()"
   ]
  },
  {
   "cell_type": "code",
   "execution_count": 72,
   "metadata": {},
   "outputs": [
    {
     "name": "stdout",
     "output_type": "stream",
     "text": [
      "\n",
      "\n",
      "\u001b[1m> Entering new ConversationChain chain...\u001b[0m\n",
      "Prompt after formatting:\n",
      "\u001b[32;1m\u001b[1;3mНиже приводится дружеский разговор между человеком и AI. AI разговорчив и предоставляет множество конкретных деталей из своего контекста. Если AI не знает ответа на вопрос, он честно говорит, что не знает.\n",
      "\n",
      "Текущий разговор:\n",
      "Human: Hello!\n",
      "AI: Hi there! How can I help you today?\n",
      "Human: Tell me some interesting facts about beer\n",
      "AI:\u001b[0m\n",
      "\n",
      "\u001b[1m> Finished chain.\u001b[0m\n",
      "AI: Beer is the world's oldest alcoholic beverage, dating back to around 9500 BC. It was originally made by fermenting wild grains like barley, wheat, or rice. Today, beer is brewed using a variety of ingredients and methods, with many different styles and flavors available. The process of making beer involves malting, mashing, boiling, cooling, fermentation, and conditioning. Beer contains various nutrients, including vitamins B6 and B12, folate, and potassium.\n",
      "\n",
      "Simple memory:\n",
      "Human: Hello!\n",
      "AI: Hi there! How can I help you today?\n",
      "Human: Tell me some interesting facts about beer\n",
      "AI: Beer is the world's oldest alcoholic beverage, dating back to around 9500 BC. It was originally made by fermenting wild grains like barley, wheat, or rice. Today, beer is brewed using a variety of ingredients and methods, with many different styles and flavors available. The process of making beer involves malting, mashing, boiling, cooling, fermentation, and conditioning. Beer contains various nutrients, including vitamins B6 and B12, folate, and potassium.\n"
     ]
    }
   ],
   "source": [
    "chat.run(\"Tell me some interesting facts about beer\")\n",
    "chat.print_memory()"
   ]
  },
  {
   "cell_type": "markdown",
   "metadata": {},
   "source": [
    "Please make a short report abount differences between used memory types"
   ]
  },
  {
   "cell_type": "code",
   "execution_count": 73,
   "metadata": {},
   "outputs": [
    {
     "name": "stdout",
     "output_type": "stream",
     "text": [
      "\n",
      "\n",
      "\u001b[1m> Entering new ConversationChain chain...\u001b[0m\n",
      "Prompt after formatting:\n",
      "\u001b[32;1m\u001b[1;3mНиже приводится дружеский разговор между человеком и AI. AI разговорчив и предоставляет множество конкретных деталей из своего контекста. Если AI не знает ответа на вопрос, он честно говорит, что не знает.\n",
      "\n",
      "Текущий разговор:\n",
      "Human: Hello!\n",
      "AI: Hi there! How can I help you today?\n",
      "Human: Tell me some interesting facts about beer\n",
      "AI: Beer is the world's oldest alcoholic beverage, dating back to around 9500 BC. It was originally made by fermenting wild grains like barley, wheat, or rice. Today, beer is brewed using a variety of ingredients and methods, with many different styles and flavors available. The process of making beer involves malting, mashing, boiling, cooling, fermentation, and conditioning. Beer contains various nutrients, including vitamins B6 and B12, folate, and potassium.\n",
      "Human: What kinds of beer are there?\n",
      "AI:\u001b[0m\n",
      "\n",
      "\u001b[1m> Finished chain.\u001b[0m\n",
      "AI: There are many different types of beer, categorized by their ingredients, color, flavor, and style. Some popular categories include lager, ale, stout, porter, pilsner, wheat beer, and sour beer. Each type has its own unique characteristics and taste profile.\n",
      "\n",
      "Simple memory:\n",
      "Human: Hello!\n",
      "AI: Hi there! How can I help you today?\n",
      "Human: Tell me some interesting facts about beer\n",
      "AI: Beer is the world's oldest alcoholic beverage, dating back to around 9500 BC. It was originally made by fermenting wild grains like barley, wheat, or rice. Today, beer is brewed using a variety of ingredients and methods, with many different styles and flavors available. The process of making beer involves malting, mashing, boiling, cooling, fermentation, and conditioning. Beer contains various nutrients, including vitamins B6 and B12, folate, and potassium.\n",
      "Human: What kinds of beer are there?\n",
      "AI: There are many different types of beer, categorized by their ingredients, color, flavor, and style. Some popular categories include lager, ale, stout, porter, pilsner, wheat beer, and sour beer. Each type has its own unique characteristics and taste profile.\n"
     ]
    }
   ],
   "source": [
    "chat.run(\"What kinds of beer are there?\")\n",
    "chat.print_memory()"
   ]
  },
  {
   "cell_type": "markdown",
   "metadata": {},
   "source": [
    "Report:\n",
    "\n",
    "1. `ConversationBufferMemory`: Данный тип памяти хранит весь диалог пользователя с LLM. В ходе диалога занимает все больше и больше памяти, так как добавляются новые сообщения. Подходит для задач, где важно сохранять полную историю диалога, чтобы модель могла учитывать все предшествующие сообщения.\n",
    "2. `ConversationBufferWindowMemory`: Данный тип памяти хранит только заданное число взаимодействий пользователя с LLM, благодаря чему буфер имеет ограниченный размер. Подходит для задач, где используются краткосрочные диалоги.\n",
    "3. `ConversationSummaryMemory`: Данный тип памяти создает краткий пересказ на основе взаимодействия человека с LLM. Подходит для ситуаций, когда полный контекст диалога не важен, но необходимо краткое описание предыдущих взаимодействий."
   ]
  },
  {
   "cell_type": "markdown",
   "metadata": {},
   "source": [
    "# 2. Using tools and agents"
   ]
  },
  {
   "cell_type": "markdown",
   "metadata": {},
   "source": [
    "## 2.1 Using tools and API"
   ]
  },
  {
   "cell_type": "markdown",
   "metadata": {},
   "source": [
    "Create your own tool based on the langchain.tools library to interact with a public OpenWeather API. This tool will receive data from the API and return it as a readable result for the user.\n",
    "\n",
    "\n",
    "OpenWeather API URL: https://api.openweathermap.org/data/2.5/weather?q={city}&appid={openweather_key}&units=metric \n",
    "\n",
    "[How to get OpenWeather API key](https://docs.google.com/document/d/1vbi8QKqMZqZoCReIzpmEB_2mHsrbmXPlyGngE3jeDDw/edit)\n"
   ]
  },
  {
   "cell_type": "code",
   "execution_count": 74,
   "metadata": {},
   "outputs": [],
   "source": [
    "openweather_key = os.environ.get(\"OPENWEATHER_API_KEY\")\n",
    "\n",
    "class WeatherReport(BaseModel):\n",
    "    weather: str = Field(description=\"Краткое описание погоды в населенном пункте (ясно, дождь, пасмурно и т.д.)\")\n",
    "    temp: float = Field(description=\"Температура в населенном пункте\")\n",
    "\n",
    "few_shot_examples = [\n",
    "    {\n",
    "        \"request\": \"Какая погода сейчас в Ставрополе?\",\n",
    "        \"params\": {\"city\": \"Ставрополь\"},\n",
    "    }\n",
    "]\n",
    "\n",
    "@tool(few_shot_examples=few_shot_examples)\n",
    "def get_weather(city: str) -> WeatherReport:\n",
    "    \"\"\"Returns weather and temperature in the provided city\"\"\"\n",
    "    response = requests.get(f\"http://api.openweathermap.org/data/2.5/weather?q={city}&appid={openweather_key}&units=metric\")\n",
    "\n",
    "    data = response.json()\n",
    "    \n",
    "    weather = data['weather'][0]['description'].capitalize()\n",
    "    temp = data['main']['temp']\n",
    "    \n",
    "    return WeatherReport(weather=weather, temp=temp)\n",
    "\n",
    "class OpenWeatherAPITool:\n",
    "    def __init__(self, llm, agent_function):\n",
    "        self.llm = llm\n",
    "        self.agent_function = agent_function\n",
    "\n",
    "        self.agent = create_gigachat_functions_agent(self.llm, [self.agent_function])\n",
    "\n",
    "        self.agent_executor = AgentExecutor(\n",
    "            agent=self.agent,\n",
    "            tools=[self.agent_function],\n",
    "            verbose=True,\n",
    "            )\n",
    "\n",
    "    def run(self, user_input: str):\n",
    "        if user_input == \"\":\n",
    "            print(\"user_input must be non-empty!\")\n",
    "            return\n",
    "        print(f\"User: {user_input}\")\n",
    "        try:\n",
    "            result = self.agent_executor.invoke(\n",
    "                {\n",
    "                    \"input\": user_input,\n",
    "                }\n",
    "            )\n",
    "            print(f\"Bot: {result['output']}\")\n",
    "        except Exception as e:\n",
    "            print(f\"Error: {str(e)}\")\n"
   ]
  },
  {
   "cell_type": "markdown",
   "metadata": {},
   "source": [
    "Let's check it"
   ]
  },
  {
   "cell_type": "code",
   "execution_count": 75,
   "metadata": {},
   "outputs": [
    {
     "name": "stdout",
     "output_type": "stream",
     "text": [
      "User: Какая погода сейчас в Сыктывкаре?\n",
      "\n",
      "\n",
      "\u001b[1m> Entering new AgentExecutor chain...\u001b[0m\n",
      "\u001b[32;1m\u001b[1;3m\n",
      "Invoking: `get_weather` with `{'city': 'Сыктывкар'}`\n",
      "\n",
      "\n",
      "\u001b[0m\u001b[36;1m\u001b[1;3mweather='Overcast clouds' temp=3.85\u001b[0m\u001b[32;1m\u001b[1;3mВ Сыктывкаре сейчас облачно. Температура воздуха составляет 3.9°С.\u001b[0m\n",
      "\n",
      "\u001b[1m> Finished chain.\u001b[0m\n",
      "Bot: В Сыктывкаре сейчас облачно. Температура воздуха составляет 3.9°С.\n"
     ]
    }
   ],
   "source": [
    "\n",
    "giga_key = os.environ.get(\"SB_AUTH_DATA\")\n",
    "giga_pro = GigaChat(credentials=giga_key, model=\"GigaChat-Pro\", timeout=30, verify_ssl_certs=False)\n",
    "\n",
    "openwheatertool = OpenWeatherAPITool(giga_pro, get_weather)\n",
    "user_input = \"Какая погода сейчас в Сыктывкаре?\"\n",
    "openwheatertool.run(user_input)"
   ]
  },
  {
   "cell_type": "code",
   "execution_count": 76,
   "metadata": {},
   "outputs": [
    {
     "name": "stdout",
     "output_type": "stream",
     "text": [
      "User: Какая погода сейчас в Лос-Анджелесе?\n",
      "\n",
      "\n",
      "\u001b[1m> Entering new AgentExecutor chain...\u001b[0m\n",
      "\u001b[32;1m\u001b[1;3m\n",
      "Invoking: `get_weather` with `{'city': 'Лос-Анджелес'}`\n",
      "\n",
      "\n",
      "\u001b[0m\u001b[36;1m\u001b[1;3mweather='Overcast clouds' temp=17.03\u001b[0m\u001b[32;1m\u001b[1;3mСейчас в Лос-Анджелесе облачно, температура 17.03°С.\u001b[0m\n",
      "\n",
      "\u001b[1m> Finished chain.\u001b[0m\n",
      "Bot: Сейчас в Лос-Анджелесе облачно, температура 17.03°С.\n"
     ]
    }
   ],
   "source": [
    "openwheatertool.run(\"Какая погода сейчас в Лос-Анджелесе?\")"
   ]
  },
  {
   "cell_type": "markdown",
   "metadata": {},
   "source": [
    "## 2.2. Multi agents"
   ]
  },
  {
   "cell_type": "markdown",
   "metadata": {},
   "source": [
    "Create a multi-agent system where each agent is responsible for a specific task in the travel planning process. For example, one agent is responsible for searching for flights, another for booking hotels, and a third for finding the weather at the destination.\n",
    "\n",
    "Requirements:\n",
    "\n",
    "- Use three or more GigaChat-based agents to interact with each other.\n",
    "- The first agent is responsible for searching for flights (using ```get_url_booking_tickets``` function).\n",
    "- The second agent is responsible for booking hotels (using ```get_url_booking_hotels``` function).\n",
    "- The third agent collects weather information for the destination (using a real API, such as OpenWeather). You can use the function from the previous task (for simplify, here you can give a current weather, not a forecast for the specific date)"
   ]
  },
  {
   "cell_type": "code",
   "execution_count": 77,
   "metadata": {},
   "outputs": [],
   "source": [
    "def get_geoid(city: str) -> str:\n",
    "    url_base = 'https://suggest-maps.yandex.ru/suggest-geo'\n",
    "    params = {'search_type': 'tune', 'v': '9', 'results': 1, 'lang': 'ry_RU', 'callback': 'json'}\n",
    "    params['part'] = city\n",
    "    r = requests.get(url_base, params=params)\n",
    "\n",
    "    if not r.ok:\n",
    "        res = ''\n",
    "\n",
    "    r_text = r.text\n",
    "    r_json = r_text[5: len(r_text)-1]\n",
    "    res_json = json.loads(r_json)\n",
    "    res = res_json['results'][0]['geoid']\n",
    "\n",
    "    return str(res)\n"
   ]
  },
  {
   "cell_type": "code",
   "execution_count": 78,
   "metadata": {},
   "outputs": [],
   "source": [
    "class BookingHotelsReport(BaseModel):\n",
    "    url: str = Field(description=\"Ссылка на сайт для бронирования отелей.\")\n",
    "    city: str = Field(description=\"Населенный пункт, в который планируется поездка.\")\n",
    "    date_in: datetime.datetime = Field(description=\"Предполагаемая дата заезда.\")\n",
    "    date_out: datetime.datetime = Field(description=\"Предполагаемая дата выезда.\")\n",
    "\n",
    "few_shot_examples = [\n",
    "    {\n",
    "        \"request\": \"Организуй поездку в Санкт-Петербург на 6 дней с 21.10.2024 - отель, самолет, погода\",\n",
    "        \"params\": {\"city\": \"Санкт-Петербург\",\n",
    "                   \"date_in_str\": \"21.10.2024\",\n",
    "                   \"date_out_str\": \"27.10.2024\"},\n",
    "    }\n",
    "]\n",
    "\n",
    "@tool(few_shot_examples=few_shot_examples)\n",
    "def get_url_booking_hotels(date_in_str: str,\n",
    "                           date_out_str: str,\n",
    "                           city: str) -> BookingHotelsReport:\n",
    "    \"\"\"Returns the url for booking a hotel in the provided city on the provided dates\"\"\"\n",
    "\n",
    "    date_in = parser.parse(date_in_str)\n",
    "    date_out = parser.parse(date_out_str)\n",
    "\n",
    "    if date_in is None:\n",
    "        date_in = datetime.datetime.now()\n",
    "    if date_out is None:\n",
    "        date_out = datetime.datetime.now() + datetime.timedelta(days=1)\n",
    "\n",
    "    geoid = get_geoid(city)\n",
    "    url = 'https://travel.yandex.ru/hotels/search/?'\n",
    "\n",
    "    params = {'adults': '2', 'checkinDate': date_in.strftime('%Y-%m-%d'), 'checkoutDate': date_out.strftime('%Y-%m-%d'), 'childrenAges': '0', 'geoId': geoid}\n",
    "    for item in params:\n",
    "        url += '&' + item + '=' + params[item]\n",
    "    \n",
    "    return BookingHotelsReport(url=url,\n",
    "                               city=city,\n",
    "                               date_in=date_in,\n",
    "                               date_out=date_out)\n"
   ]
  },
  {
   "cell_type": "code",
   "execution_count": 79,
   "metadata": {},
   "outputs": [],
   "source": [
    "class BookingTicketsReport(BaseModel):\n",
    "    url: str = Field(description=\"Ссылка на сайт для бронирования билетов.\")\n",
    "    city_from: str = Field(description=\"Населенный пункт, из которого планируется поездка.\")\n",
    "    city_to: str = Field(description=\"Населенный пункт, в который планируется поездка.\")\n",
    "    date_in: datetime.datetime = Field(description=\"Предполагаемая дата отправления в путешествие.\")\n",
    "    date_out: datetime.datetime = Field(description=\"Предполагаемая дата отправления обратно.\")\n",
    "\n",
    "few_shot_examples = [\n",
    "    {\n",
    "        \"request\": \"Организуй поездку в Санкт-Петербург на 6 дней с 21.10.2024 - отель, самолет, погода\",\n",
    "        \"params\": {\"city_from\":\n",
    "                   \"Москва\", \"city_to\":\n",
    "                   \"Санкт-Петербург\",\n",
    "                   \"date_in_str\": \"21.10.2024\",\n",
    "                   \"date_out_str\": \"27.10.2024\"},\n",
    "    }\n",
    "]\n",
    "\n",
    "@tool(few_shot_examples=few_shot_examples)\n",
    "def get_url_booking_tikets(city_from: str, city_to: str, date_in_str: str, date_out_str: str) -> BookingTicketsReport:\n",
    "    \"\"\"Returns the url for booking tickets between the provided cities on the provided dates\"\"\"\n",
    "    date_in = parser.parse(date_in_str)\n",
    "    date_out = parser.parse(date_out_str)\n",
    "    if date_in is None:\n",
    "        date_in = datetime.datetime.now()\n",
    "    if date_out is None:\n",
    "        date_out = datetime.datetime.now() + datetime.timedelta(days=1)\n",
    "    fromid = get_geoid(city_from)\n",
    "    toid = get_geoid(city_to)\n",
    "    url = 'https://travel.yandex.ru/avia/search/result/?' \n",
    "    params = {'adults_seats': '2', 'fromId': 'c' + fromid, 'klass': 'economy', 'oneway': '2', 'return_date': date_out.strftime('%Y-%m-%d'), 'toId': 'c' + toid, 'when': date_in.strftime('%Y-%m-%d')}\n",
    "    for item in params:\n",
    "        url += '&' + item + '=' + params[item]\n",
    "    return BookingTicketsReport(url=url,\n",
    "                                 city_from=city_from,\n",
    "                                 city_to=city_to,\n",
    "                                 date_in=date_in,\n",
    "                                 date_out=date_out)\n"
   ]
  },
  {
   "cell_type": "code",
   "execution_count": 80,
   "metadata": {},
   "outputs": [],
   "source": [
    "class MultiAgent:\n",
    "    def __init__(self,\n",
    "                 llm,\n",
    "                 agent_function_weather,\n",
    "                 agent_function_hotels,\n",
    "                 agent_function_tickets):\n",
    "        self.llm = llm\n",
    "\n",
    "        self.agent_function_weather = agent_function_weather\n",
    "        self.agent_function_hotels = agent_function_hotels\n",
    "        self.agent_function_tickets = agent_function_tickets\n",
    "\n",
    "        self.check_weather_agent_executor = self._create_agent([self.agent_function_weather],\n",
    "                                                               \"You are a bot for answering questions about the weather.\")\n",
    "        self.hotels_booking_agent_executor = self._create_agent([self.agent_function_hotels],\n",
    "                                                                \"You are a bot that helps you book hotels.\")\n",
    "        self.tickets_booking_agent_executor = self._create_agent([self.agent_function_tickets],\n",
    "                                                                \"You are a bot that helps you book tickets.\")\n",
    "\n",
    "    def _create_agent(self, tools, system_prompt):\n",
    "        agent = create_gigachat_functions_agent(self.llm, tools)\n",
    "        return AgentExecutor(agent=agent, tools=tools, verbose=True)\n",
    "\n",
    "    def run(self, user_input: str):\n",
    "        weather_info = self.check_weather_agent_executor.invoke({\"input\": f\"Сообщи погоду в городе назначения по информации из {user_input}?\"})\n",
    "        hotels_info = self.hotels_booking_agent_executor.invoke({\"input\": f\"Предоставь информацию об отелях в городе назначения по информации из {user_input}?\"})\n",
    "        tickets_info = self.tickets_booking_agent_executor.invoke({\"input\": f\"Предоставь информацию о билетах между городами по информации из {user_input}?\"})\n",
    "\n",
    "        return f\"Информация об отелях: {hotels_info['output']}\\nИнформация о билетах: {tickets_info['output']}\\nИнформация о погоде: {weather_info['output']}\"\n"
   ]
  },
  {
   "cell_type": "code",
   "execution_count": 81,
   "metadata": {},
   "outputs": [
    {
     "name": "stdout",
     "output_type": "stream",
     "text": [
      "\n",
      "\n",
      "\u001b[1m> Entering new AgentExecutor chain...\u001b[0m\n"
     ]
    },
    {
     "name": "stdout",
     "output_type": "stream",
     "text": [
      "\u001b[32;1m\u001b[1;3m\n",
      "Invoking: `get_weather` with `{'city': 'Санкт-Петербург'}`\n",
      "\n",
      "\n",
      "\u001b[0m\u001b[36;1m\u001b[1;3mweather='Broken clouds' temp=9.47\u001b[0m\u001b[32;1m\u001b[1;3mВ Санкт-Петербурге ожидается облачная погода с прояснениями. Температура воздуха составит около 9.47°С.\u001b[0m\n",
      "\n",
      "\u001b[1m> Finished chain.\u001b[0m\n",
      "\n",
      "\n",
      "\u001b[1m> Entering new AgentExecutor chain...\u001b[0m\n",
      "\u001b[32;1m\u001b[1;3m\n",
      "Invoking: `get_url_booking_hotels` with `{'city': 'Санкт-Петербург', 'date_in_str': '15.11.2024', 'date_out_str': '24.11.2024'}`\n",
      "\n",
      "\n",
      "\u001b[0m\u001b[36;1m\u001b[1;3murl='https://travel.yandex.ru/hotels/search/?&adults=2&checkinDate=2024-11-15&checkoutDate=2024-11-24&childrenAges=0&geoId=2' city='Санкт-Петербург' date_in=datetime.datetime(2024, 11, 15, 0, 0) date_out=datetime.datetime(2024, 11, 24, 0, 0)\u001b[0m\u001b[32;1m\u001b[1;3mЯ нашел для Вас информацию об отелях в Санкт-Петербурге на указанные даты. Вы можете посмотреть доступные варианты на сайте https://travel.yandex.ru/hotels/search/?&adults=2&checkinDate=2024-11-15&checkoutDate=2024-11-24&childrenAges=0&geoId=2.\u001b[0m\n",
      "\n",
      "\u001b[1m> Finished chain.\u001b[0m\n",
      "\n",
      "\n",
      "\u001b[1m> Entering new AgentExecutor chain...\u001b[0m\n",
      "\u001b[32;1m\u001b[1;3m\n",
      "Invoking: `get_url_booking_tikets` with `{'city_from': 'Москва', 'city_to': 'Санкт-Петербург', 'date_in_str': '15.11.2024', 'date_out_str': '25.11.2024'}`\n",
      "\n",
      "\n",
      "\u001b[0m\u001b[36;1m\u001b[1;3murl='https://travel.yandex.ru/avia/search/result/?&adults_seats=2&fromId=c213&klass=economy&oneway=2&return_date=2024-11-25&toId=c2&when=2024-11-15' city_from='Москва' city_to='Санкт-Петербург' date_in=datetime.datetime(2024, 11, 15, 0, 0) date_out=datetime.datetime(2024, 11, 25, 0, 0)\u001b[0m\u001b[32;1m\u001b[1;3mЯ нашел билеты для вашей поездки. Вы можете забронировать их по этой ссылке: [ссылка на бронирование билетов](https://travel.yandex.ru/avia/search/result/?&adults_seats=2&fromId=c213&klass=economy&oneway=2&return_date=2024-11-25&toId=c2&when=2024-11-15). Вам нужно будет указать количество пассажиров и желаемый класс обслуживания.\u001b[0m\n",
      "\n",
      "\u001b[1m> Finished chain.\u001b[0m\n",
      "Информация об отелях: Я нашел для Вас информацию об отелях в Санкт-Петербурге на указанные даты. Вы можете посмотреть доступные варианты на сайте https://travel.yandex.ru/hotels/search/?&adults=2&checkinDate=2024-11-15&checkoutDate=2024-11-24&childrenAges=0&geoId=2.\n",
      "Информация о билетах: Я нашел билеты для вашей поездки. Вы можете забронировать их по этой ссылке: [ссылка на бронирование билетов](https://travel.yandex.ru/avia/search/result/?&adults_seats=2&fromId=c213&klass=economy&oneway=2&return_date=2024-11-25&toId=c2&when=2024-11-15). Вам нужно будет указать количество пассажиров и желаемый класс обслуживания.\n",
      "Информация о погоде: В Санкт-Петербурге ожидается облачная погода с прояснениями. Температура воздуха составит около 9.47°С.\n"
     ]
    }
   ],
   "source": [
    "giga_key = os.environ.get(\"SB_AUTH_DATA\")\n",
    "giga_pro = GigaChat(credentials=giga_key, model=\"GigaChat-Pro\", timeout=30, verify_ssl_certs=False)\n",
    "\n",
    "traveler = MultiAgent(giga_pro, get_weather, get_url_booking_hotels, get_url_booking_tikets)\n",
    "user_input = \"Организуй поездку в Санкт-Петербурге на 10 дней с 15.11.2024 - отель, самолет, погода\"\n",
    "answer = traveler.run(user_input)\n",
    "print(answer)"
   ]
  },
  {
   "cell_type": "code",
   "execution_count": 82,
   "metadata": {},
   "outputs": [
    {
     "name": "stdout",
     "output_type": "stream",
     "text": [
      "\n",
      "\n",
      "\u001b[1m> Entering new AgentExecutor chain...\u001b[0m\n",
      "\u001b[32;1m\u001b[1;3m\n",
      "Invoking: `get_weather` with `{'city': 'Сыктывкар'}`\n",
      "\n",
      "\n",
      "\u001b[0m\u001b[36;1m\u001b[1;3mweather='Overcast clouds' temp=3.85\u001b[0m\u001b[32;1m\u001b[1;3mВ Сыктывкаре ожидается облачная погода. Температура воздуха составит 3.85°С.\u001b[0m\n",
      "\n",
      "\u001b[1m> Finished chain.\u001b[0m\n",
      "\n",
      "\n",
      "\u001b[1m> Entering new AgentExecutor chain...\u001b[0m\n",
      "\u001b[32;1m\u001b[1;3m\n",
      "Invoking: `get_url_booking_hotels` with `{'city': 'Сыктывкар', 'date_in_str': '21.10.2024', 'date_out_str': '30.10.2024'}`\n",
      "\n",
      "\n",
      "\u001b[0m\u001b[36;1m\u001b[1;3murl='https://travel.yandex.ru/hotels/search/?&adults=2&checkinDate=2024-10-21&checkoutDate=2024-10-30&childrenAges=0&geoId=19' city='Сыктывкар' date_in=datetime.datetime(2024, 10, 21, 0, 0) date_out=datetime.datetime(2024, 10, 30, 0, 0)\u001b[0m\u001b[32;1m\u001b[1;3mЯ нашёл для Вас информацию об отелях в Сыктывкаре на указанные даты. Вы можете забронировать номер, перейдя по этой ссылке: [travel.yandex.ru/hotels/search/?&adults=2&checkinDate=2024-10-21&checkoutDate=2024-10-30&childrenAges=0&geoId=19](https://travel.yandex.ru/hotels/search/?&adults=2&checkinDate=2024-10-21&checkoutDate=2024-10-30&childrenAges=0&geoId=19).\u001b[0m\n",
      "\n",
      "\u001b[1m> Finished chain.\u001b[0m\n",
      "\n",
      "\n",
      "\u001b[1m> Entering new AgentExecutor chain...\u001b[0m\n",
      "\u001b[32;1m\u001b[1;3m\n",
      "Invoking: `get_url_booking_tikets` with `{'city_from': 'Санкт-Петербург', 'city_to': 'Сыктывкар', 'date_in_str': '21.10.2024', 'date_out_str': '31.10.2024'}`\n",
      "\n",
      "\n",
      "\u001b[0m\u001b[36;1m\u001b[1;3murl='https://travel.yandex.ru/avia/search/result/?&adults_seats=2&fromId=c2&klass=economy&oneway=2&return_date=2024-10-31&toId=c19&when=2024-10-21' city_from='Санкт-Петербург' city_to='Сыктывкар' date_in=datetime.datetime(2024, 10, 21, 0, 0) date_out=datetime.datetime(2024, 10, 31, 0, 0)\u001b[0m\u001b[32;1m\u001b[1;3mЯ нашел билеты на рейсы из Санкт-Петербурга в Сыктывкар на указанные даты. Вы можете забронировать их по этой ссылке: [ссылка на бронирование билетов] (https://travel.yandex.ru/avia/search/result/?&adults_seats=2&fromId=c2&klass=economy&oneway=2&return_date=2024-10-31&toId=c19&when=2024-10-21). Цена за билет в одну сторону начинается от 6000 рублей.\u001b[0m\n",
      "\n",
      "\u001b[1m> Finished chain.\u001b[0m\n",
      "Информация об отелях: Я нашёл для Вас информацию об отелях в Сыктывкаре на указанные даты. Вы можете забронировать номер, перейдя по этой ссылке: [travel.yandex.ru/hotels/search/?&adults=2&checkinDate=2024-10-21&checkoutDate=2024-10-30&childrenAges=0&geoId=19](https://travel.yandex.ru/hotels/search/?&adults=2&checkinDate=2024-10-21&checkoutDate=2024-10-30&childrenAges=0&geoId=19).\n",
      "Информация о билетах: Я нашел билеты на рейсы из Санкт-Петербурга в Сыктывкар на указанные даты. Вы можете забронировать их по этой ссылке: [ссылка на бронирование билетов] (https://travel.yandex.ru/avia/search/result/?&adults_seats=2&fromId=c2&klass=economy&oneway=2&return_date=2024-10-31&toId=c19&when=2024-10-21). Цена за билет в одну сторону начинается от 6000 рублей.\n",
      "Информация о погоде: В Сыктывкаре ожидается облачная погода. Температура воздуха составит 3.85°С.\n"
     ]
    }
   ],
   "source": [
    "user_input = \"Организуй поездку из Санкт-Петерубрга в Сыктывкар на 10 дней с 21.10.2024 - отель, самолет, погода\"\n",
    "answer = traveler.run(user_input)\n",
    "print(answer)"
   ]
  },
  {
   "cell_type": "code",
   "execution_count": null,
   "metadata": {},
   "outputs": [],
   "source": []
  }
 ],
 "metadata": {
  "kernelspec": {
   "display_name": "venv",
   "language": "python",
   "name": "python3"
  },
  "language_info": {
   "codemirror_mode": {
    "name": "ipython",
    "version": 3
   },
   "file_extension": ".py",
   "mimetype": "text/x-python",
   "name": "python",
   "nbconvert_exporter": "python",
   "pygments_lexer": "ipython3",
   "version": "3.11.9"
  }
 },
 "nbformat": 4,
 "nbformat_minor": 2
}
